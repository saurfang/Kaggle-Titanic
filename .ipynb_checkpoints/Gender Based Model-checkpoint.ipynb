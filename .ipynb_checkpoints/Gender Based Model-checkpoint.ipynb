{
 "metadata": {
  "name": ""
 },
 "nbformat": 3,
 "nbformat_minor": 0,
 "worksheets": [
  {
   "cells": [
    {
     "cell_type": "code",
     "collapsed": false,
     "input": [
      "# The first thing to do is to import the relevant packages\n",
      "# that I will need for my script, \n",
      "# these include the Numpy (for maths and arrays)\n",
      "# and csv for reading and writing csv files\n",
      "# If i want to use something from this I need to call \n",
      "# csv.[function] or np.[function] first\n",
      "\n",
      "import csv as csv \n",
      "import numpy as np\n",
      "\n",
      "# Open up the csv file in to a Python object\n",
      "csv_file_object = csv.reader(open('data/train.csv', 'rb')) \n",
      "header = csv_file_object.next()  # The next() command just skips the \n",
      "                                 # first line which is a header\n",
      "data=[]                          # Create a variable called 'data'.\n",
      "for row in csv_file_object:      # Run through each row in the csv file,\n",
      "    data.append(row)             # adding each row to the data variable\n",
      "data = np.array(data) \t         # Then convert from a list to an array\n",
      "                                 # Be aware that each item is currently\n",
      "                                 # a string in this format"
     ],
     "language": "python",
     "metadata": {},
     "outputs": [],
     "prompt_number": 2
    },
    {
     "cell_type": "code",
     "collapsed": false,
     "input": [
      "#See what data looks like\n",
      "print data"
     ],
     "language": "python",
     "metadata": {},
     "outputs": [
      {
       "output_type": "stream",
       "stream": "stdout",
       "text": [
        "[['1' '0' '3' ..., '7.25' '' 'S']\n",
        " ['2' '1' '1' ..., '71.2833' 'C85' 'C']\n",
        " ['3' '1' '3' ..., '7.925' '' 'S']\n",
        " ..., \n",
        " ['889' '0' '3' ..., '23.45' '' 'S']\n",
        " ['890' '1' '1' ..., '30' 'C148' 'C']\n",
        " ['891' '0' '3' ..., '7.75' '' 'Q']]\n"
       ]
      }
     ],
     "prompt_number": 4
    },
    {
     "cell_type": "code",
     "collapsed": false,
     "input": [
      "# The size() function counts how many elements are in\n",
      "# in the array and sum() (as you would expects) sums up\n",
      "# the elements in the array.\n",
      "\n",
      "number_passengers = np.size(data[0::,1].astype(np.float))\n",
      "number_survived = np.sum(data[0::,1].astype(np.float))\n",
      "proportion_survivors = number_survived / number_passengers\n",
      "print proportion_survivors"
     ],
     "language": "python",
     "metadata": {},
     "outputs": [
      {
       "output_type": "stream",
       "stream": "stdout",
       "text": [
        "0.383838383838\n"
       ]
      }
     ],
     "prompt_number": 6
    },
    {
     "cell_type": "code",
     "collapsed": false,
     "input": [
      "women_only_stats = data[0::,4] == \"female\" # This finds where all \n",
      "                                           # the elements in the gender\n",
      "                                           # column that equals \u201cfemale\u201d\n",
      "men_only_stats = data[0::,4] != \"female\"   # This finds where all the \n",
      "                                           # elements do not equal \n",
      "                                           # female (i.e. male)\n",
      "        \n",
      "# Using the index from above we select the females and males separately\n",
      "women_onboard = data[women_only_stats,1].astype(np.float)     \n",
      "men_onboard = data[men_only_stats,1].astype(np.float)\n",
      "\n",
      "# Then we finds the proportions of them that survived\n",
      "proportion_women_survived = \\\n",
      "                       np.sum(women_onboard) / np.size(women_onboard)  \n",
      "proportion_men_survived = \\\n",
      "                       np.sum(men_onboard) / np.size(men_onboard) \n",
      "\n",
      "# and then print it out\n",
      "print 'Proportion of women who survived is %s' % proportion_women_survived\n",
      "print 'Proportion of men who survived is %s' % proportion_men_survived"
     ],
     "language": "python",
     "metadata": {},
     "outputs": [
      {
       "output_type": "stream",
       "stream": "stdout",
       "text": [
        "Proportion of women who survived is 0.742038216561\n",
        "Proportion of men who survived is 0.188908145581\n"
       ]
      }
     ],
     "prompt_number": 8
    },
    {
     "cell_type": "code",
     "collapsed": false,
     "input": [
      "test_file = open('data/test.csv', 'rb')\n",
      "test_file_object = csv.reader(test_file)\n",
      "header = test_file_object.next()\n",
      "\n",
      "prediction_file = open(\"genderbasedmodel.csv\", \"wb\")\n",
      "prediction_file_object = csv.writer(prediction_file)\n",
      "\n",
      "prediction_file_object.writerow([\"PassengerId\", \"Survived\"])\n",
      "for row in test_file_object:       # For each row in test.csv\n",
      "    if row[3] == 'female':         # is it a female, if yes then                                       \n",
      "        prediction_file_object.writerow([row[0],'1'])    # predict 1\n",
      "    else:                              # or else if male,       \n",
      "        prediction_file_object.writerow([row[0],'0'])    # predict 0\n",
      "test_file.close()\n",
      "prediction_file.close()"
     ],
     "language": "python",
     "metadata": {},
     "outputs": [],
     "prompt_number": 10
    },
    {
     "cell_type": "code",
     "collapsed": false,
     "input": [],
     "language": "python",
     "metadata": {},
     "outputs": []
    }
   ],
   "metadata": {}
  }
 ]
}